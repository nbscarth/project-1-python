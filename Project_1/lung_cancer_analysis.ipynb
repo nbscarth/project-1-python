{
 "cells": [
  {
   "cell_type": "markdown",
   "metadata": {},
   "source": [
    "# Access data file"
   ]
  },
  {
   "cell_type": "code",
   "execution_count": 1,
   "metadata": {},
   "outputs": [],
   "source": [
    "# Imports\n",
    "import pandas as pd\n",
    "from matplotlib import pyplot as plt\n",
    "import numpy as np\n",
    "from scipy import stats\n"
   ]
  },
  {
   "cell_type": "code",
   "execution_count": 5,
   "metadata": {},
   "outputs": [
    {
     "data": {
      "text/html": [
       "<div>\n",
       "<style scoped>\n",
       "    .dataframe tbody tr th:only-of-type {\n",
       "        vertical-align: middle;\n",
       "    }\n",
       "\n",
       "    .dataframe tbody tr th {\n",
       "        vertical-align: top;\n",
       "    }\n",
       "\n",
       "    .dataframe thead th {\n",
       "        text-align: right;\n",
       "    }\n",
       "</style>\n",
       "<table border=\"1\" class=\"dataframe\">\n",
       "  <thead>\n",
       "    <tr style=\"text-align: right;\">\n",
       "      <th></th>\n",
       "      <th>Patient_ID</th>\n",
       "      <th>Age</th>\n",
       "      <th>Gender</th>\n",
       "      <th>Smoking_History</th>\n",
       "      <th>Tumor_Size_mm</th>\n",
       "      <th>Tumor_Location</th>\n",
       "      <th>Stage</th>\n",
       "      <th>Treatment</th>\n",
       "      <th>Survival_Months</th>\n",
       "      <th>Ethnicity</th>\n",
       "      <th>...</th>\n",
       "      <th>Alanine_Aminotransferase_Level</th>\n",
       "      <th>Aspartate_Aminotransferase_Level</th>\n",
       "      <th>Creatinine_Level</th>\n",
       "      <th>LDH_Level</th>\n",
       "      <th>Calcium_Level</th>\n",
       "      <th>Phosphorus_Level</th>\n",
       "      <th>Glucose_Level</th>\n",
       "      <th>Potassium_Level</th>\n",
       "      <th>Sodium_Level</th>\n",
       "      <th>Smoking_Pack_Years</th>\n",
       "    </tr>\n",
       "  </thead>\n",
       "  <tbody>\n",
       "    <tr>\n",
       "      <th>0</th>\n",
       "      <td>Patient0000</td>\n",
       "      <td>68</td>\n",
       "      <td>Male</td>\n",
       "      <td>Current Smoker</td>\n",
       "      <td>81.678677</td>\n",
       "      <td>Lower Lobe</td>\n",
       "      <td>Stage III</td>\n",
       "      <td>Surgery</td>\n",
       "      <td>44</td>\n",
       "      <td>Hispanic</td>\n",
       "      <td>...</td>\n",
       "      <td>27.985571</td>\n",
       "      <td>46.801214</td>\n",
       "      <td>1.245849</td>\n",
       "      <td>239.240255</td>\n",
       "      <td>10.366307</td>\n",
       "      <td>3.547734</td>\n",
       "      <td>113.919243</td>\n",
       "      <td>4.968163</td>\n",
       "      <td>139.822861</td>\n",
       "      <td>17.006956</td>\n",
       "    </tr>\n",
       "    <tr>\n",
       "      <th>1</th>\n",
       "      <td>Patient0001</td>\n",
       "      <td>58</td>\n",
       "      <td>Male</td>\n",
       "      <td>Never Smoked</td>\n",
       "      <td>78.448272</td>\n",
       "      <td>Lower Lobe</td>\n",
       "      <td>Stage I</td>\n",
       "      <td>Radiation Therapy</td>\n",
       "      <td>101</td>\n",
       "      <td>Caucasian</td>\n",
       "      <td>...</td>\n",
       "      <td>30.120956</td>\n",
       "      <td>39.711531</td>\n",
       "      <td>1.463231</td>\n",
       "      <td>233.515237</td>\n",
       "      <td>10.081731</td>\n",
       "      <td>2.945020</td>\n",
       "      <td>101.321578</td>\n",
       "      <td>3.896795</td>\n",
       "      <td>135.449361</td>\n",
       "      <td>93.270893</td>\n",
       "    </tr>\n",
       "    <tr>\n",
       "      <th>2</th>\n",
       "      <td>Patient0002</td>\n",
       "      <td>44</td>\n",
       "      <td>Male</td>\n",
       "      <td>Former Smoker</td>\n",
       "      <td>67.714305</td>\n",
       "      <td>Lower Lobe</td>\n",
       "      <td>Stage I</td>\n",
       "      <td>Chemotherapy</td>\n",
       "      <td>69</td>\n",
       "      <td>African American</td>\n",
       "      <td>...</td>\n",
       "      <td>5.882418</td>\n",
       "      <td>32.640602</td>\n",
       "      <td>0.630109</td>\n",
       "      <td>169.037460</td>\n",
       "      <td>8.660892</td>\n",
       "      <td>4.637399</td>\n",
       "      <td>78.214177</td>\n",
       "      <td>4.369050</td>\n",
       "      <td>143.377155</td>\n",
       "      <td>70.348376</td>\n",
       "    </tr>\n",
       "    <tr>\n",
       "      <th>3</th>\n",
       "      <td>Patient0003</td>\n",
       "      <td>72</td>\n",
       "      <td>Male</td>\n",
       "      <td>Current Smoker</td>\n",
       "      <td>70.806008</td>\n",
       "      <td>Lower Lobe</td>\n",
       "      <td>Stage III</td>\n",
       "      <td>Chemotherapy</td>\n",
       "      <td>95</td>\n",
       "      <td>African American</td>\n",
       "      <td>...</td>\n",
       "      <td>38.908154</td>\n",
       "      <td>44.319393</td>\n",
       "      <td>0.594342</td>\n",
       "      <td>213.967590</td>\n",
       "      <td>8.832669</td>\n",
       "      <td>3.617098</td>\n",
       "      <td>127.895361</td>\n",
       "      <td>4.348474</td>\n",
       "      <td>138.586005</td>\n",
       "      <td>19.828128</td>\n",
       "    </tr>\n",
       "    <tr>\n",
       "      <th>4</th>\n",
       "      <td>Patient0004</td>\n",
       "      <td>37</td>\n",
       "      <td>Female</td>\n",
       "      <td>Never Smoked</td>\n",
       "      <td>87.272433</td>\n",
       "      <td>Lower Lobe</td>\n",
       "      <td>Stage IV</td>\n",
       "      <td>Radiation Therapy</td>\n",
       "      <td>105</td>\n",
       "      <td>Asian</td>\n",
       "      <td>...</td>\n",
       "      <td>26.344877</td>\n",
       "      <td>15.746906</td>\n",
       "      <td>1.478239</td>\n",
       "      <td>118.187543</td>\n",
       "      <td>9.247609</td>\n",
       "      <td>4.773255</td>\n",
       "      <td>148.801185</td>\n",
       "      <td>3.671976</td>\n",
       "      <td>141.230724</td>\n",
       "      <td>81.047456</td>\n",
       "    </tr>\n",
       "  </tbody>\n",
       "</table>\n",
       "<p>5 rows × 38 columns</p>\n",
       "</div>"
      ],
      "text/plain": [
       "    Patient_ID  Age  Gender Smoking_History  Tumor_Size_mm Tumor_Location  \\\n",
       "0  Patient0000   68    Male  Current Smoker      81.678677     Lower Lobe   \n",
       "1  Patient0001   58    Male    Never Smoked      78.448272     Lower Lobe   \n",
       "2  Patient0002   44    Male   Former Smoker      67.714305     Lower Lobe   \n",
       "3  Patient0003   72    Male  Current Smoker      70.806008     Lower Lobe   \n",
       "4  Patient0004   37  Female    Never Smoked      87.272433     Lower Lobe   \n",
       "\n",
       "       Stage          Treatment  Survival_Months         Ethnicity  ...  \\\n",
       "0  Stage III            Surgery               44          Hispanic  ...   \n",
       "1    Stage I  Radiation Therapy              101         Caucasian  ...   \n",
       "2    Stage I       Chemotherapy               69  African American  ...   \n",
       "3  Stage III       Chemotherapy               95  African American  ...   \n",
       "4   Stage IV  Radiation Therapy              105             Asian  ...   \n",
       "\n",
       "  Alanine_Aminotransferase_Level Aspartate_Aminotransferase_Level  \\\n",
       "0                      27.985571                        46.801214   \n",
       "1                      30.120956                        39.711531   \n",
       "2                       5.882418                        32.640602   \n",
       "3                      38.908154                        44.319393   \n",
       "4                      26.344877                        15.746906   \n",
       "\n",
       "  Creatinine_Level   LDH_Level Calcium_Level Phosphorus_Level Glucose_Level  \\\n",
       "0         1.245849  239.240255     10.366307         3.547734    113.919243   \n",
       "1         1.463231  233.515237     10.081731         2.945020    101.321578   \n",
       "2         0.630109  169.037460      8.660892         4.637399     78.214177   \n",
       "3         0.594342  213.967590      8.832669         3.617098    127.895361   \n",
       "4         1.478239  118.187543      9.247609         4.773255    148.801185   \n",
       "\n",
       "  Potassium_Level Sodium_Level  Smoking_Pack_Years  \n",
       "0        4.968163   139.822861           17.006956  \n",
       "1        3.896795   135.449361           93.270893  \n",
       "2        4.369050   143.377155           70.348376  \n",
       "3        4.348474   138.586005           19.828128  \n",
       "4        3.671976   141.230724           81.047456  \n",
       "\n",
       "[5 rows x 38 columns]"
      ]
     },
     "execution_count": 5,
     "metadata": {},
     "output_type": "execute_result"
    }
   ],
   "source": [
    "# Access data\n",
    "raw_df = pd.read_csv(\"lung_cancer_data.csv\")\n",
    "raw_df.head()"
   ]
  },
  {
   "cell_type": "markdown",
   "metadata": {},
   "source": [
    "# Clean data"
   ]
  },
  {
   "cell_type": "code",
   "execution_count": 7,
   "metadata": {},
   "outputs": [
    {
     "data": {
      "text/plain": [
       "Patient_ID                          23658\n",
       "Age                                 23658\n",
       "Gender                              23658\n",
       "Smoking_History                     23658\n",
       "Tumor_Size_mm                       23658\n",
       "Tumor_Location                      23658\n",
       "Stage                               23658\n",
       "Treatment                           23658\n",
       "Survival_Months                     23658\n",
       "Ethnicity                           23658\n",
       "Insurance_Type                      23658\n",
       "Family_History                      23658\n",
       "Comorbidity_Diabetes                23658\n",
       "Comorbidity_Hypertension            23658\n",
       "Comorbidity_Heart_Disease           23658\n",
       "Comorbidity_Chronic_Lung_Disease    23658\n",
       "Comorbidity_Kidney_Disease          23658\n",
       "Comorbidity_Autoimmune_Disease      23658\n",
       "Comorbidity_Other                   23658\n",
       "Performance_Status                  23658\n",
       "Blood_Pressure_Systolic             23658\n",
       "Blood_Pressure_Diastolic            23658\n",
       "Blood_Pressure_Pulse                23658\n",
       "Hemoglobin_Level                    23658\n",
       "White_Blood_Cell_Count              23658\n",
       "Platelet_Count                      23658\n",
       "Albumin_Level                       23658\n",
       "Alkaline_Phosphatase_Level          23658\n",
       "Alanine_Aminotransferase_Level      23658\n",
       "Aspartate_Aminotransferase_Level    23658\n",
       "Creatinine_Level                    23658\n",
       "LDH_Level                           23658\n",
       "Calcium_Level                       23658\n",
       "Phosphorus_Level                    23658\n",
       "Glucose_Level                       23658\n",
       "Potassium_Level                     23658\n",
       "Sodium_Level                        23658\n",
       "Smoking_Pack_Years                  23658\n",
       "dtype: int64"
      ]
     },
     "execution_count": 7,
     "metadata": {},
     "output_type": "execute_result"
    }
   ],
   "source": [
    "# Check for missing data\n",
    "raw_df.count()"
   ]
  },
  {
   "cell_type": "code",
   "execution_count": 8,
   "metadata": {},
   "outputs": [
    {
     "data": {
      "text/plain": [
       "Index(['Patient_ID', 'Age', 'Gender', 'Smoking_History', 'Tumor_Size_mm',\n",
       "       'Tumor_Location', 'Stage', 'Treatment', 'Survival_Months', 'Ethnicity',\n",
       "       'Insurance_Type', 'Family_History', 'Comorbidity_Diabetes',\n",
       "       'Comorbidity_Hypertension', 'Comorbidity_Heart_Disease',\n",
       "       'Comorbidity_Chronic_Lung_Disease', 'Comorbidity_Kidney_Disease',\n",
       "       'Comorbidity_Autoimmune_Disease', 'Comorbidity_Other',\n",
       "       'Performance_Status', 'Blood_Pressure_Systolic',\n",
       "       'Blood_Pressure_Diastolic', 'Blood_Pressure_Pulse', 'Hemoglobin_Level',\n",
       "       'White_Blood_Cell_Count', 'Platelet_Count', 'Albumin_Level',\n",
       "       'Alkaline_Phosphatase_Level', 'Alanine_Aminotransferase_Level',\n",
       "       'Aspartate_Aminotransferase_Level', 'Creatinine_Level', 'LDH_Level',\n",
       "       'Calcium_Level', 'Phosphorus_Level', 'Glucose_Level', 'Potassium_Level',\n",
       "       'Sodium_Level', 'Smoking_Pack_Years'],\n",
       "      dtype='object')"
      ]
     },
     "execution_count": 8,
     "metadata": {},
     "output_type": "execute_result"
    }
   ],
   "source": [
    "raw_df.columns"
   ]
  },
  {
   "cell_type": "markdown",
   "metadata": {},
   "source": [
    "# Question 1\n",
    "- Are there any demographics within the dataset that demonstrate higher risk of lung cancer?\n",
    "- Distribution of demographic factors  (age, gender and ethnicity) of lung cancer patients "
   ]
  },
  {
   "cell_type": "code",
   "execution_count": null,
   "metadata": {},
   "outputs": [],
   "source": []
  },
  {
   "cell_type": "markdown",
   "metadata": {},
   "source": [
    "# Question 2\n",
    "- What impact does smoking have on the onset of lung cancer?\n",
    "- Age, smoking history and smoking pack years"
   ]
  },
  {
   "cell_type": "code",
   "execution_count": null,
   "metadata": {},
   "outputs": [],
   "source": []
  },
  {
   "cell_type": "markdown",
   "metadata": {},
   "source": [
    "# Question 3"
   ]
  },
  {
   "cell_type": "code",
   "execution_count": null,
   "metadata": {},
   "outputs": [],
   "source": []
  },
  {
   "cell_type": "markdown",
   "metadata": {},
   "source": [
    "# Question 4"
   ]
  },
  {
   "cell_type": "code",
   "execution_count": null,
   "metadata": {},
   "outputs": [],
   "source": []
  },
  {
   "cell_type": "markdown",
   "metadata": {},
   "source": [
    "# Question 5"
   ]
  },
  {
   "cell_type": "code",
   "execution_count": null,
   "metadata": {},
   "outputs": [],
   "source": []
  },
  {
   "cell_type": "markdown",
   "metadata": {},
   "source": [
    "# Question 6"
   ]
  },
  {
   "cell_type": "code",
   "execution_count": null,
   "metadata": {},
   "outputs": [],
   "source": []
  },
  {
   "cell_type": "markdown",
   "metadata": {},
   "source": [
    "# Question 7"
   ]
  },
  {
   "cell_type": "code",
   "execution_count": null,
   "metadata": {},
   "outputs": [],
   "source": []
  },
  {
   "cell_type": "markdown",
   "metadata": {},
   "source": [
    "# Question 8"
   ]
  },
  {
   "cell_type": "code",
   "execution_count": null,
   "metadata": {},
   "outputs": [],
   "source": []
  }
 ],
 "metadata": {
  "kernelspec": {
   "display_name": "dev",
   "language": "python",
   "name": "python3"
  },
  "language_info": {
   "codemirror_mode": {
    "name": "ipython",
    "version": 3
   },
   "file_extension": ".py",
   "mimetype": "text/x-python",
   "name": "python",
   "nbconvert_exporter": "python",
   "pygments_lexer": "ipython3",
   "version": "3.10.14"
  }
 },
 "nbformat": 4,
 "nbformat_minor": 2
}
